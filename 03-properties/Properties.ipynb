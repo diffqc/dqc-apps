{
 "cells": [
  {
   "cell_type": "code",
   "execution_count": 1,
   "id": "f08a7ce0",
   "metadata": {},
   "outputs": [],
   "source": [
    "import torch\n",
    "import dqc\n",
    "import time\n",
    "\n",
    "dtype = torch.float64"
   ]
  },
  {
   "cell_type": "code",
   "execution_count": 2,
   "id": "e404b3d1",
   "metadata": {},
   "outputs": [],
   "source": [
    "atomzs = torch.tensor([8, 1, 1], dtype=torch.int64)\n",
    "# from CCCBDB (calculated geometry for H2O for HF/cc-pvdz)\n",
    "atomposs = (torch.tensor([\n",
    "    [0.0, 0.0, 0.1157],\n",
    "    [0.0, 0.7488, -0.4629],\n",
    "    [0.0, -0.7488, -0.4629],\n",
    "], dtype=dtype) * 1.8897259886).requires_grad_()\n",
    "efield = torch.zeros(3, dtype=dtype).requires_grad_()\n",
    "grad_efield = torch.zeros((3, 3), dtype=dtype).requires_grad_()\n",
    "\n",
    "efields = (efield, grad_efield)\n",
    "mol = dqc.Mol(moldesc=(atomzs, atomposs), basis=\"cc-pvdz\", dtype=dtype, efield=efields)\n",
    "qc = dqc.HF(mol).run()"
   ]
  },
  {
   "cell_type": "code",
   "execution_count": 3,
   "id": "8f0e8583",
   "metadata": {},
   "outputs": [
    {
     "name": "stdout",
     "output_type": "stream",
     "text": [
      "tensor([ 3.8799e-16,  3.8770e-14, -2.0442e+00], dtype=torch.float64,\n",
      "       grad_fn=<MulBackward0>)\n"
     ]
    }
   ],
   "source": [
    "# dipole\n",
    "dip = dqc.edipole(qc, unit=\"debye\")\n",
    "print(dip)"
   ]
  },
  {
   "cell_type": "code",
   "execution_count": 4,
   "id": "24b8be90",
   "metadata": {},
   "outputs": [
    {
     "name": "stdout",
     "output_type": "stream",
     "text": [
      "tensor([[-7.0084e+00, -1.5913e-16,  1.4936e-16],\n",
      "        [-1.5913e-16, -4.1405e+00, -1.2222e-14],\n",
      "        [ 1.4936e-16, -1.2222e-14, -5.8839e+00]], dtype=torch.float64,\n",
      "       grad_fn=<MulBackward0>)\n"
     ]
    }
   ],
   "source": [
    "# quadrupole\n",
    "quad = dqc.equadrupole(qc, unit=\"debye*angst\")\n",
    "print(quad)"
   ]
  },
  {
   "cell_type": "code",
   "execution_count": 5,
   "id": "5f252bbc",
   "metadata": {},
   "outputs": [
    {
     "name": "stdout",
     "output_type": "stream",
     "text": [
      "tensor([4.2116e+03, 4.1133e+03, 1.7757e+03, 1.4622e+01, 1.4497e+01, 1.4258e+01,\n",
      "        2.0408e-02, 4.8197e-03, 3.0302e-03], dtype=torch.float64,\n",
      "       grad_fn=<MulBackward0>) tensor([6.0469e+01, 2.1172e+01, 8.0686e+01, 1.5744e-15, 1.0209e+02, 2.9461e+02,\n",
      "        5.0680e-09, 6.2067e-18, 5.4876e-07], dtype=torch.float64,\n",
      "       grad_fn=<MulBackward0>)\n"
     ]
    }
   ],
   "source": [
    "# ir spectrum\n",
    "freq, ir_ints = dqc.ir_spectrum(qc, freq_unit=\"cm^-1\", ints_unit=\"km/mol\")\n",
    "print(freq, ir_ints)"
   ]
  },
  {
   "cell_type": "code",
   "execution_count": 7,
   "id": "aff0c99d",
   "metadata": {},
   "outputs": [
    {
     "name": "stdout",
     "output_type": "stream",
     "text": [
      "tensor([4.2116e+03, 4.1133e+03, 1.7757e+03, 1.4622e+01, 1.4497e+01, 1.4258e+01,\n",
      "        2.0408e-02, 4.8197e-03, 3.0302e-03], dtype=torch.float64,\n",
      "       grad_fn=<MulBackward0>)\n",
      "tensor([3.4789e+01, 6.8881e+01, 4.7901e+00, 5.4320e+00, 7.8389e-01, 2.8784e+00,\n",
      "        3.8918e-11, 2.0156e-17, 5.3614e-09], dtype=torch.float64,\n",
      "       grad_fn=<MulBackward0>)\n"
     ]
    }
   ],
   "source": [
    "# raman spectrum\n",
    "freq, raman_ints = dqc.raman_spectrum(qc, freq_unit=\"cm^-1\", ints_unit=\"angst^4/amu\")\n",
    "print(freq)\n",
    "print(raman_ints)"
   ]
  },
  {
   "cell_type": "code",
   "execution_count": null,
   "id": "fa94694f",
   "metadata": {},
   "outputs": [],
   "source": []
  }
 ],
 "metadata": {
  "kernelspec": {
   "display_name": "Python 3",
   "language": "python",
   "name": "python3"
  },
  "language_info": {
   "codemirror_mode": {
    "name": "ipython",
    "version": 3
   },
   "file_extension": ".py",
   "mimetype": "text/x-python",
   "name": "python",
   "nbconvert_exporter": "python",
   "pygments_lexer": "ipython3",
   "version": "3.7.10"
  }
 },
 "nbformat": 4,
 "nbformat_minor": 5
}
