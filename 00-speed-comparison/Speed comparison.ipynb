{
 "cells": [
  {
   "cell_type": "code",
   "execution_count": 1,
   "id": "51280a6c",
   "metadata": {},
   "outputs": [
    {
     "name": "stderr",
     "output_type": "stream",
     "text": [
      "/home/muhammadkasim/anaconda2/envs/torchdev/lib/python3.7/site-packages/pyscf/lib/misc.py:46: H5pyDeprecationWarning: Using default_file_mode other than 'r' is deprecated. Pass the mode to h5py.File() instead.\n",
      "  h5py.get_config().default_file_mode = 'a'\n"
     ]
    }
   ],
   "source": [
    "import dqc\n",
    "import pyscf\n",
    "import time\n",
    "import torch\n",
    "import pyscf.dft"
   ]
  },
  {
   "cell_type": "code",
   "execution_count": 2,
   "id": "872411b3",
   "metadata": {
    "scrolled": false
   },
   "outputs": [
    {
     "name": "stdout",
     "output_type": "stream",
     "text": [
      "tensor(-76.0268, dtype=torch.float64)\n",
      "tensor(-76.0268, dtype=torch.float64)\n",
      "tensor(-76.0268, dtype=torch.float64)\n",
      "tensor(-76.0268, dtype=torch.float64)\n",
      "tensor(-76.0268, dtype=torch.float64)\n",
      "tensor(-76.0268, dtype=torch.float64)\n",
      "tensor(-76.0268, dtype=torch.float64)\n",
      "tensor(-76.0268, dtype=torch.float64)\n",
      "221 ms ± 5.68 ms per loop (mean ± std. dev. of 7 runs, 1 loop each)\n"
     ]
    }
   ],
   "source": [
    "%%timeit\n",
    "# case #1: Hartree-Fock of H2O with cc-pvdz (DQC)\n",
    "moldesc = \"O 0.0000 0.0000 0.2217; H 0.0000 1.4309 -0.8867; H 0.0000 -1.4309 -0.8867\"  # from CCCBDB, exp data\n",
    "m = dqc.Mol(moldesc, basis=\"cc-pvdz\")\n",
    "ene = dqc.HF(m).run().energy()\n",
    "print(ene)"
   ]
  },
  {
   "cell_type": "code",
   "execution_count": 3,
   "id": "9936a552",
   "metadata": {
    "scrolled": true
   },
   "outputs": [
    {
     "name": "stdout",
     "output_type": "stream",
     "text": [
      "converged SCF energy = -76.0267709333531\n",
      "converged SCF energy = -76.0267709333531\n",
      "converged SCF energy = -76.0267709333532\n",
      "converged SCF energy = -76.0267709333531\n",
      "converged SCF energy = -76.0267709333531\n",
      "converged SCF energy = -76.0267709333531\n",
      "converged SCF energy = -76.0267709333531\n",
      "converged SCF energy = -76.0267709333531\n",
      "converged SCF energy = -76.0267709333531\n",
      "converged SCF energy = -76.0267709333531\n",
      "converged SCF energy = -76.0267709333532\n",
      "converged SCF energy = -76.0267709333531\n",
      "converged SCF energy = -76.0267709333532\n",
      "converged SCF energy = -76.0267709333531\n",
      "converged SCF energy = -76.0267709333531\n",
      "converged SCF energy = -76.0267709333531\n",
      "converged SCF energy = -76.0267709333532\n",
      "converged SCF energy = -76.0267709333531\n",
      "converged SCF energy = -76.0267709333531\n",
      "converged SCF energy = -76.0267709333531\n",
      "converged SCF energy = -76.0267709333531\n",
      "converged SCF energy = -76.0267709333531\n",
      "converged SCF energy = -76.0267709333531\n",
      "converged SCF energy = -76.0267709333531\n",
      "converged SCF energy = -76.0267709333531\n",
      "converged SCF energy = -76.0267709333532\n",
      "converged SCF energy = -76.0267709333531\n",
      "converged SCF energy = -76.0267709333531\n",
      "converged SCF energy = -76.0267709333532\n",
      "converged SCF energy = -76.0267709333531\n",
      "converged SCF energy = -76.0267709333531\n",
      "converged SCF energy = -76.0267709333532\n",
      "converged SCF energy = -76.0267709333531\n",
      "converged SCF energy = -76.0267709333532\n",
      "converged SCF energy = -76.0267709333531\n",
      "converged SCF energy = -76.0267709333531\n",
      "converged SCF energy = -76.0267709333531\n",
      "converged SCF energy = -76.0267709333532\n",
      "converged SCF energy = -76.0267709333531\n",
      "converged SCF energy = -76.0267709333532\n",
      "converged SCF energy = -76.0267709333531\n",
      "converged SCF energy = -76.0267709333531\n",
      "converged SCF energy = -76.0267709333532\n",
      "converged SCF energy = -76.026770933353\n",
      "converged SCF energy = -76.0267709333531\n",
      "converged SCF energy = -76.0267709333531\n",
      "converged SCF energy = -76.0267709333531\n",
      "converged SCF energy = -76.0267709333532\n",
      "converged SCF energy = -76.0267709333532\n",
      "converged SCF energy = -76.0267709333532\n",
      "converged SCF energy = -76.0267709333531\n",
      "converged SCF energy = -76.0267709333531\n",
      "converged SCF energy = -76.0267709333531\n",
      "converged SCF energy = -76.0267709333532\n",
      "converged SCF energy = -76.0267709333532\n",
      "converged SCF energy = -76.0267709333531\n",
      "converged SCF energy = -76.0267709333531\n",
      "converged SCF energy = -76.0267709333532\n",
      "converged SCF energy = -76.0267709333532\n",
      "converged SCF energy = -76.0267709333531\n",
      "converged SCF energy = -76.0267709333532\n",
      "converged SCF energy = -76.0267709333532\n",
      "converged SCF energy = -76.0267709333531\n",
      "converged SCF energy = -76.0267709333532\n",
      "converged SCF energy = -76.0267709333531\n",
      "converged SCF energy = -76.026770933353\n",
      "converged SCF energy = -76.0267709333531\n",
      "converged SCF energy = -76.0267709333531\n",
      "converged SCF energy = -76.0267709333531\n",
      "converged SCF energy = -76.0267709333531\n",
      "converged SCF energy = -76.0267709333531\n",
      "converged SCF energy = -76.0267709333531\n",
      "converged SCF energy = -76.0267709333531\n",
      "converged SCF energy = -76.0267709333532\n",
      "converged SCF energy = -76.0267709333531\n",
      "converged SCF energy = -76.0267709333531\n",
      "converged SCF energy = -76.0267709333531\n",
      "converged SCF energy = -76.0267709333531\n",
      "converged SCF energy = -76.0267709333532\n",
      "converged SCF energy = -76.0267709333531\n",
      "converged SCF energy = -76.0267709333531\n",
      "76.9 ms ± 1.07 ms per loop (mean ± std. dev. of 7 runs, 10 loops each)\n"
     ]
    }
   ],
   "source": [
    "%%timeit\n",
    "# case #1: Hartree-Fock of H2O with cc-pvdz (PySCF)\n",
    "moldesc = \"O 0.0000 0.0000 0.2217; H 0.0000 1.4309 -0.8867; H 0.0000 -1.4309 -0.8867\"  # from CCCBDB, exp data\n",
    "m = pyscf.gto.M(atom=moldesc, basis=\"cc-pvdz\", unit=\"Bohr\")\n",
    "ene = pyscf.scf.RHF(m).kernel()"
   ]
  },
  {
   "cell_type": "code",
   "execution_count": 5,
   "id": "c25836f7",
   "metadata": {
    "scrolled": true
   },
   "outputs": [
    {
     "name": "stdout",
     "output_type": "stream",
     "text": [
      "The cc-pvtz basis for atomz 7 does not exist, but we will download it\n",
      "Downloaded to /home/muhammadkasim/Documents/Git/projectlibs/dqc/dqc/api/.database/cc-pvtz/07.gaussian94\n",
      "The cc-pvtz basis for atomz 1 does not exist, but we will download it\n",
      "Downloaded to /home/muhammadkasim/Documents/Git/projectlibs/dqc/dqc/api/.database/cc-pvtz/01.gaussian94\n",
      "The cc-pvtz basis for atomz 6 does not exist, but we will download it\n",
      "Downloaded to /home/muhammadkasim/Documents/Git/projectlibs/dqc/dqc/api/.database/cc-pvtz/06.gaussian94\n",
      "tensor(-208.8836, dtype=torch.float64)\n",
      "tensor(-208.8836, dtype=torch.float64)\n",
      "tensor(-208.8836, dtype=torch.float64)\n",
      "tensor(-208.8836, dtype=torch.float64)\n",
      "tensor(-208.8836, dtype=torch.float64)\n",
      "tensor(-208.8836, dtype=torch.float64)\n",
      "tensor(-208.8836, dtype=torch.float64)\n",
      "tensor(-208.8836, dtype=torch.float64)\n",
      "44.4 s ± 1.13 s per loop (mean ± std. dev. of 7 runs, 1 loop each)\n"
     ]
    }
   ],
   "source": [
    "%%timeit\n",
    "# case #2: Hartree-Fock of C4H5N with cc-pvtz (DQC)\n",
    "moldesc = \"\"\"N 0.0000 0.0000 2.1199; H 0.0000 0.0000 4.0021; C 0.0000 2.1182 0.6314;\n",
    "        C 0.0000 -2.1182 0.6314; C 0.0000 1.3372 -1.8608; C 0.0000 -1.3372 -1.8608;\n",
    "        H 0.0000 3.9843 1.4388; H 0.0000 -3.9843 1.4388; H 0.0000 2.5636 -3.4826;\n",
    "        H 0.0000 -2.5636 -3.4826\"\"\"\n",
    "m = dqc.Mol(moldesc, basis=\"cc-pvtz\")\n",
    "ene = dqc.HF(m).run().energy()\n",
    "print(ene)"
   ]
  },
  {
   "cell_type": "code",
   "execution_count": 6,
   "id": "189ec08a",
   "metadata": {},
   "outputs": [
    {
     "name": "stdout",
     "output_type": "stream",
     "text": [
      "converged SCF energy = -208.883603812275\n",
      "converged SCF energy = -208.883603812275\n",
      "converged SCF energy = -208.883603812275\n",
      "converged SCF energy = -208.883603812275\n",
      "converged SCF energy = -208.883603812275\n",
      "converged SCF energy = -208.883603812275\n",
      "converged SCF energy = -208.883603812275\n",
      "converged SCF energy = -208.883603812276\n",
      "5.48 s ± 26.2 ms per loop (mean ± std. dev. of 7 runs, 1 loop each)\n"
     ]
    }
   ],
   "source": [
    "%%timeit\n",
    "# case #2: Hartree-Fock of C4H5N with cc-pvtz (PySCF)\n",
    "moldesc = \"\"\"N 0.0000 0.0000 2.1199; H 0.0000 0.0000 4.0021; C 0.0000 2.1182 0.6314;\n",
    "        C 0.0000 -2.1182 0.6314; C 0.0000 1.3372 -1.8608; C 0.0000 -1.3372 -1.8608;\n",
    "        H 0.0000 3.9843 1.4388; H 0.0000 -3.9843 1.4388; H 0.0000 2.5636 -3.4826;\n",
    "        H 0.0000 -2.5636 -3.4826\"\"\"\n",
    "m = pyscf.gto.M(atom=moldesc, basis=\"cc-pvtz\", unit=\"Bohr\")\n",
    "ene = pyscf.scf.RHF(m).kernel()"
   ]
  },
  {
   "cell_type": "code",
   "execution_count": 7,
   "id": "670d57c5",
   "metadata": {},
   "outputs": [
    {
     "name": "stdout",
     "output_type": "stream",
     "text": [
      "tensor(-75.8519, dtype=torch.float64)\n",
      "tensor(-75.8519, dtype=torch.float64)\n",
      "tensor(-75.8519, dtype=torch.float64)\n",
      "tensor(-75.8519, dtype=torch.float64)\n",
      "tensor(-75.8519, dtype=torch.float64)\n",
      "tensor(-75.8519, dtype=torch.float64)\n",
      "tensor(-75.8519, dtype=torch.float64)\n",
      "tensor(-75.8519, dtype=torch.float64)\n",
      "593 ms ± 12.8 ms per loop (mean ± std. dev. of 7 runs, 1 loop each)\n"
     ]
    }
   ],
   "source": [
    "%%timeit\n",
    "# case #3: LDA of H2O with cc-pvdz (DQC)\n",
    "moldesc = \"O 0.0000 0.0000 0.2217; H 0.0000 1.4309 -0.8867; H 0.0000 -1.4309 -0.8867\"  # from CCCBDB, exp data\n",
    "m = dqc.Mol(moldesc, basis=\"cc-pvdz\", grid=4)\n",
    "ene = dqc.KS(m, xc=\"lda_x+lda_c_pw\").run().energy()\n",
    "print(ene)"
   ]
  },
  {
   "cell_type": "code",
   "execution_count": 8,
   "id": "8a7d1da8",
   "metadata": {},
   "outputs": [
    {
     "name": "stdout",
     "output_type": "stream",
     "text": [
      "converged SCF energy = -75.8518718063195\n",
      "converged SCF energy = -75.8518718063195\n",
      "converged SCF energy = -75.8518718063195\n",
      "converged SCF energy = -75.8518718063196\n",
      "converged SCF energy = -75.8518718063195\n",
      "converged SCF energy = -75.8518718063194\n",
      "converged SCF energy = -75.8518718063195\n",
      "converged SCF energy = -75.8518718063195\n",
      "192 ms ± 1.95 ms per loop (mean ± std. dev. of 7 runs, 1 loop each)\n"
     ]
    }
   ],
   "source": [
    "%%timeit\n",
    "# case #3: LDA of H2O with cc-pvdz (PySCF)\n",
    "moldesc = \"O 0.0000 0.0000 0.2217; H 0.0000 1.4309 -0.8867; H 0.0000 -1.4309 -0.8867\"  # from CCCBDB, exp data\n",
    "m = pyscf.gto.M(atom=moldesc, basis=\"cc-pvdz\", unit=\"Bohr\")\n",
    "mf = pyscf.dft.RKS(m, xc=\"lda_x+lda_c_pw\")\n",
    "mf.grids.level = 4\n",
    "ene = mf.kernel()"
   ]
  },
  {
   "cell_type": "code",
   "execution_count": 9,
   "id": "e5a77337",
   "metadata": {},
   "outputs": [
    {
     "name": "stdout",
     "output_type": "stream",
     "text": [
      "tensor(-208.3723, dtype=torch.float64)\n",
      "tensor(-208.3723, dtype=torch.float64)\n",
      "tensor(-208.3723, dtype=torch.float64)\n",
      "tensor(-208.3723, dtype=torch.float64)\n",
      "tensor(-208.3723, dtype=torch.float64)\n",
      "tensor(-208.3723, dtype=torch.float64)\n",
      "tensor(-208.3723, dtype=torch.float64)\n",
      "tensor(-208.3723, dtype=torch.float64)\n",
      "30.9 s ± 834 ms per loop (mean ± std. dev. of 7 runs, 1 loop each)\n"
     ]
    }
   ],
   "source": [
    "%%timeit\n",
    "# case #4: LDA of C4H5N with cc-pvtz (DQC)\n",
    "moldesc = \"\"\"N 0.0000 0.0000 2.1199; H 0.0000 0.0000 4.0021; C 0.0000 2.1182 0.6314;\n",
    "        C 0.0000 -2.1182 0.6314; C 0.0000 1.3372 -1.8608; C 0.0000 -1.3372 -1.8608;\n",
    "        H 0.0000 3.9843 1.4388; H 0.0000 -3.9843 1.4388; H 0.0000 2.5636 -3.4826;\n",
    "        H 0.0000 -2.5636 -3.4826\"\"\"\n",
    "m = dqc.Mol(moldesc, basis=\"cc-pvtz\", grid=4)\n",
    "ene = dqc.KS(m, xc=\"lda_x+lda_c_pw\").run().energy()\n",
    "print(ene)"
   ]
  },
  {
   "cell_type": "code",
   "execution_count": 10,
   "id": "6c976a9e",
   "metadata": {},
   "outputs": [
    {
     "name": "stdout",
     "output_type": "stream",
     "text": [
      "converged SCF energy = -208.372278343302\n",
      "converged SCF energy = -208.372278343303\n",
      "converged SCF energy = -208.372278343303\n",
      "converged SCF energy = -208.372278343303\n",
      "converged SCF energy = -208.372278343303\n",
      "converged SCF energy = -208.372278343303\n",
      "converged SCF energy = -208.372278343303\n",
      "converged SCF energy = -208.372278343303\n",
      "7.08 s ± 45.8 ms per loop (mean ± std. dev. of 7 runs, 1 loop each)\n"
     ]
    }
   ],
   "source": [
    "%%timeit\n",
    "# case #4: LDA of C4H5N with cc-pvtz (PySCF)\n",
    "moldesc = \"\"\"N 0.0000 0.0000 2.1199; H 0.0000 0.0000 4.0021; C 0.0000 2.1182 0.6314;\n",
    "        C 0.0000 -2.1182 0.6314; C 0.0000 1.3372 -1.8608; C 0.0000 -1.3372 -1.8608;\n",
    "        H 0.0000 3.9843 1.4388; H 0.0000 -3.9843 1.4388; H 0.0000 2.5636 -3.4826;\n",
    "        H 0.0000 -2.5636 -3.4826\"\"\"\n",
    "m = pyscf.gto.M(atom=moldesc, basis=\"cc-pvtz\", unit=\"Bohr\")\n",
    "mf = pyscf.dft.RKS(m, xc=\"lda_x+lda_c_pw\")\n",
    "mf.grids.level = 4\n",
    "ene = mf.kernel()"
   ]
  },
  {
   "cell_type": "code",
   "execution_count": 11,
   "id": "3f0c3f9c",
   "metadata": {},
   "outputs": [
    {
     "name": "stdout",
     "output_type": "stream",
     "text": [
      "tensor(-208.3723, dtype=torch.float64)\n",
      "tensor(-208.3723, dtype=torch.float64)\n",
      "tensor(-208.3723, dtype=torch.float64)\n",
      "tensor(-208.3723, dtype=torch.float64)\n",
      "tensor(-208.3723, dtype=torch.float64)\n",
      "tensor(-208.3723, dtype=torch.float64)\n",
      "tensor(-208.3723, dtype=torch.float64)\n",
      "tensor(-208.3723, dtype=torch.float64)\n",
      "6.91 s ± 188 ms per loop (mean ± std. dev. of 7 runs, 1 loop each)\n"
     ]
    }
   ],
   "source": [
    "%%timeit\n",
    "# case #5: LDA of C4H5N with cc-pvtz (DQC) density fit\n",
    "moldesc = \"\"\"N 0.0000 0.0000 2.1199; H 0.0000 0.0000 4.0021; C 0.0000 2.1182 0.6314;\n",
    "        C 0.0000 -2.1182 0.6314; C 0.0000 1.3372 -1.8608; C 0.0000 -1.3372 -1.8608;\n",
    "        H 0.0000 3.9843 1.4388; H 0.0000 -3.9843 1.4388; H 0.0000 2.5636 -3.4826;\n",
    "        H 0.0000 -2.5636 -3.4826\"\"\"\n",
    "m = dqc.Mol(moldesc, basis=\"cc-pvtz\", grid=4).densityfit()\n",
    "ene = dqc.KS(m, xc=\"lda_x+lda_c_pw\").run().energy()\n",
    "print(ene)"
   ]
  },
  {
   "cell_type": "code",
   "execution_count": 12,
   "id": "1af8e8d8",
   "metadata": {},
   "outputs": [
    {
     "name": "stdout",
     "output_type": "stream",
     "text": [
      "converged SCF energy = -208.372325640063\n",
      "converged SCF energy = -208.372325640062\n",
      "converged SCF energy = -208.372325640062\n",
      "converged SCF energy = -208.372325640063\n",
      "converged SCF energy = -208.372325640062\n",
      "converged SCF energy = -208.372325640062\n",
      "converged SCF energy = -208.372325640063\n",
      "converged SCF energy = -208.372325640062\n",
      "3.01 s ± 123 ms per loop (mean ± std. dev. of 7 runs, 1 loop each)\n"
     ]
    }
   ],
   "source": [
    "%%timeit\n",
    "# case #5: LDA of C4H5N with cc-pvtz (PySCF) density fit\n",
    "moldesc = \"\"\"N 0.0000 0.0000 2.1199; H 0.0000 0.0000 4.0021; C 0.0000 2.1182 0.6314;\n",
    "        C 0.0000 -2.1182 0.6314; C 0.0000 1.3372 -1.8608; C 0.0000 -1.3372 -1.8608;\n",
    "        H 0.0000 3.9843 1.4388; H 0.0000 -3.9843 1.4388; H 0.0000 2.5636 -3.4826;\n",
    "        H 0.0000 -2.5636 -3.4826\"\"\"\n",
    "m = pyscf.gto.M(atom=moldesc, basis=\"cc-pvtz\", unit=\"Bohr\")\n",
    "mf = pyscf.dft.RKS(m, xc=\"lda_x+lda_c_pw\").density_fit(auxbasis=\"cc-pvtz-jkfit\")\n",
    "mf.grids.level = 4\n",
    "ene = mf.kernel()"
   ]
  },
  {
   "cell_type": "code",
   "execution_count": 13,
   "id": "973ae78a",
   "metadata": {},
   "outputs": [
    {
     "name": "stdout",
     "output_type": "stream",
     "text": [
      "tensor(-679.4797, dtype=torch.float64)\n",
      "tensor(-679.4797, dtype=torch.float64)\n",
      "tensor(-679.4797, dtype=torch.float64)\n",
      "tensor(-679.4797, dtype=torch.float64)\n",
      "tensor(-679.4797, dtype=torch.float64)\n",
      "tensor(-679.4797, dtype=torch.float64)\n",
      "tensor(-679.4797, dtype=torch.float64)\n",
      "tensor(-679.4797, dtype=torch.float64)\n",
      "18.7 s ± 240 ms per loop (mean ± std. dev. of 7 runs, 1 loop each)\n"
     ]
    }
   ],
   "source": [
    "%%timeit\n",
    "# case #6: LDA of VitC with cc-pvdz (DQC) density fit\n",
    "moldesc = \"\"\"O 0.1761 -2.0912 1.2179; O -2.5390 0.1686 -2.6197; O 1.5859 4.5166 0.5374;\n",
    "O -7.3565 -0.3855 -0.6285; O 5.7108 1.0762 -1.1444; O 3.7634 -4.0742 -0.2600;\n",
    "C -0.6419 0.4947 1.4840; C -3.0347 0.8664 -0.0624; C 1.5518 1.9398 0.5456;\n",
    "C -5.1899 -0.7714 0.9190; C 3.4161 0.4295 -0.1982; C 2.5579 -2.1696 0.2094;\n",
    "H -0.9740 0.8710 3.4930; H -3.6211 2.8520 -0.0816; H -4.7222 -2.7845 0.8222;\n",
    "H -5.6716 -0.2763 2.8684; H -2.0785 -1.6104 -2.6430; H 0.0074 5.0941 1.2812;\n",
    "H -8.6971 -1.4445 0.0486; H 6.6186 -0.4860 -1.4846\"\"\"\n",
    "\n",
    "m = dqc.Mol(moldesc, basis=\"cc-pvdz\", grid=4).densityfit()\n",
    "ene = dqc.KS(m, xc=\"lda_x+lda_c_pw\").run().energy()\n",
    "print(ene)"
   ]
  },
  {
   "cell_type": "code",
   "execution_count": 14,
   "id": "75c0f837",
   "metadata": {},
   "outputs": [
    {
     "name": "stdout",
     "output_type": "stream",
     "text": [
      "converged SCF energy = -679.479718804021\n",
      "converged SCF energy = -679.479718804021\n",
      "converged SCF energy = -679.479718804021\n",
      "converged SCF energy = -679.479718804021\n",
      "converged SCF energy = -679.479718804021\n",
      "converged SCF energy = -679.479718804019\n",
      "converged SCF energy = -679.47971880402\n",
      "converged SCF energy = -679.479718804018\n",
      "8.6 s ± 129 ms per loop (mean ± std. dev. of 7 runs, 1 loop each)\n"
     ]
    }
   ],
   "source": [
    "%%timeit\n",
    "# case #6: LDA of VitC with cc-pvdz (PySCF) density fit\n",
    "moldesc = \"\"\"O 0.1761 -2.0912 1.2179; O -2.5390 0.1686 -2.6197; O 1.5859 4.5166 0.5374;\n",
    "O -7.3565 -0.3855 -0.6285; O 5.7108 1.0762 -1.1444; O 3.7634 -4.0742 -0.2600;\n",
    "C -0.6419 0.4947 1.4840; C -3.0347 0.8664 -0.0624; C 1.5518 1.9398 0.5456;\n",
    "C -5.1899 -0.7714 0.9190; C 3.4161 0.4295 -0.1982; C 2.5579 -2.1696 0.2094;\n",
    "H -0.9740 0.8710 3.4930; H -3.6211 2.8520 -0.0816; H -4.7222 -2.7845 0.8222;\n",
    "H -5.6716 -0.2763 2.8684; H -2.0785 -1.6104 -2.6430; H 0.0074 5.0941 1.2812;\n",
    "H -8.6971 -1.4445 0.0486; H 6.6186 -0.4860 -1.4846\"\"\"\n",
    "m = pyscf.gto.M(atom=moldesc, basis=\"cc-pvdz\", unit=\"Bohr\")\n",
    "mf = pyscf.dft.RKS(m, xc=\"lda_x+lda_c_pw\").density_fit(auxbasis=\"cc-pvtz-jkfit\")\n",
    "mf.grids.level = 4\n",
    "ene = mf.kernel()"
   ]
  },
  {
   "cell_type": "code",
   "execution_count": null,
   "id": "83a48ac0",
   "metadata": {},
   "outputs": [],
   "source": []
  },
  {
   "cell_type": "code",
   "execution_count": null,
   "id": "47b8188b",
   "metadata": {},
   "outputs": [],
   "source": []
  }
 ],
 "metadata": {
  "kernelspec": {
   "display_name": "Python 3",
   "language": "python",
   "name": "python3"
  },
  "language_info": {
   "codemirror_mode": {
    "name": "ipython",
    "version": 3
   },
   "file_extension": ".py",
   "mimetype": "text/x-python",
   "name": "python",
   "nbconvert_exporter": "python",
   "pygments_lexer": "ipython3",
   "version": "3.7.10"
  }
 },
 "nbformat": 4,
 "nbformat_minor": 5
}
