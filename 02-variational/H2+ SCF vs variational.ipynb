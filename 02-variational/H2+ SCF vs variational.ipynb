{
 "cells": [
  {
   "cell_type": "code",
   "execution_count": 9,
   "id": "4ce20ceb",
   "metadata": {},
   "outputs": [],
   "source": [
    "import dqc\n",
    "import torch\n",
    "import time\n",
    "\n",
    "dtype = torch.float64"
   ]
  },
  {
   "cell_type": "code",
   "execution_count": 10,
   "id": "a4a570a5",
   "metadata": {},
   "outputs": [],
   "source": [
    "def get_ene(dist, variational=False):\n",
    "    atomzs = [1, 1]\n",
    "    atomposs = torch.tensor([[-0.5, 0.0, 0.0], [0.5, 0.0, 0.0]], dtype=dtype) * dist\n",
    "    mol = dqc.Mol((atomzs, atomposs), spin=1, charge=1, basis=\"cc-pvdz\")\n",
    "    qc = dqc.KS(mol, xc=\"lda_x+lda_c_pw\", variational=variational).run()\n",
    "    return qc.energy()"
   ]
  },
  {
   "cell_type": "code",
   "execution_count": 11,
   "id": "18d4fc14",
   "metadata": {
    "scrolled": true
   },
   "outputs": [
    {
     "name": "stdout",
     "output_type": "stream",
     "text": [
      "0 tensor(5., dtype=torch.float64) tensor([-0.5446], dtype=torch.float64)\n",
      "1 tensor(6.0294, dtype=torch.float64) tensor([-0.5433], dtype=torch.float64)\n",
      "2 tensor(7.0588, dtype=torch.float64) tensor([-0.5451], dtype=torch.float64)\n",
      "3 tensor(8.0882, dtype=torch.float64) tensor([-0.5480], dtype=torch.float64)\n",
      "4 tensor(9.1176, dtype=torch.float64) tensor([-0.5508], dtype=torch.float64)\n",
      "5 tensor(10.1471, dtype=torch.float64) tensor([-0.5534], dtype=torch.float64)\n"
     ]
    },
    {
     "name": "stderr",
     "output_type": "stream",
     "text": [
      "/home/muhammadkasim/anaconda2/envs/torchdev/lib/python3.7/site-packages/xitorch/_impls/optimize/root/rootsolver.py:163: ConvergenceWarning: The rootfinder does not converge after 50 iterations. Best |dx|=1.975e-02, |f|=1.874e-02 at iter 2\n",
      "  warnings.warn(ConvergenceWarning(msg))\n"
     ]
    },
    {
     "name": "stdout",
     "output_type": "stream",
     "text": [
      "6 tensor(11.1765, dtype=torch.float64) tensor([-0.5556], dtype=torch.float64)\n"
     ]
    },
    {
     "name": "stderr",
     "output_type": "stream",
     "text": [
      "/home/muhammadkasim/anaconda2/envs/torchdev/lib/python3.7/site-packages/xitorch/_impls/optimize/root/rootsolver.py:163: ConvergenceWarning: The rootfinder does not converge after 50 iterations. Best |dx|=1.844e-02, |f|=1.907e-02 at iter 1\n",
      "  warnings.warn(ConvergenceWarning(msg))\n"
     ]
    },
    {
     "name": "stdout",
     "output_type": "stream",
     "text": [
      "7 tensor(12.2059, dtype=torch.float64) tensor([-0.5574], dtype=torch.float64)\n"
     ]
    },
    {
     "name": "stderr",
     "output_type": "stream",
     "text": [
      "/home/muhammadkasim/anaconda2/envs/torchdev/lib/python3.7/site-packages/xitorch/_impls/optimize/root/rootsolver.py:163: ConvergenceWarning: The rootfinder does not converge after 50 iterations. Best |dx|=1.844e-02, |f|=2.480e-02 at iter 1\n",
      "  warnings.warn(ConvergenceWarning(msg))\n"
     ]
    },
    {
     "name": "stdout",
     "output_type": "stream",
     "text": [
      "8 tensor(13.2353, dtype=torch.float64) tensor([-0.5590], dtype=torch.float64)\n"
     ]
    },
    {
     "name": "stderr",
     "output_type": "stream",
     "text": [
      "/home/muhammadkasim/anaconda2/envs/torchdev/lib/python3.7/site-packages/xitorch/_impls/optimize/root/rootsolver.py:163: ConvergenceWarning: The rootfinder does not converge after 50 iterations. Best |dx|=3.722e+00, |f|=3.688e-02 at iter 0\n",
      "  warnings.warn(ConvergenceWarning(msg))\n"
     ]
    },
    {
     "name": "stdout",
     "output_type": "stream",
     "text": [
      "9 tensor(14.2647, dtype=torch.float64) tensor([-0.5604], dtype=torch.float64)\n"
     ]
    },
    {
     "name": "stderr",
     "output_type": "stream",
     "text": [
      "/home/muhammadkasim/anaconda2/envs/torchdev/lib/python3.7/site-packages/xitorch/_impls/optimize/root/rootsolver.py:163: ConvergenceWarning: The rootfinder does not converge after 50 iterations. Best |dx|=3.726e+00, |f|=3.689e-02 at iter 0\n",
      "  warnings.warn(ConvergenceWarning(msg))\n"
     ]
    },
    {
     "name": "stdout",
     "output_type": "stream",
     "text": [
      "10 tensor(15.2941, dtype=torch.float64) tensor([-0.5615], dtype=torch.float64)\n"
     ]
    },
    {
     "name": "stderr",
     "output_type": "stream",
     "text": [
      "/home/muhammadkasim/anaconda2/envs/torchdev/lib/python3.7/site-packages/xitorch/_impls/optimize/root/rootsolver.py:163: ConvergenceWarning: The rootfinder does not converge after 50 iterations. Best |dx|=3.729e+00, |f|=6.291e-02 at iter 0\n",
      "  warnings.warn(ConvergenceWarning(msg))\n"
     ]
    },
    {
     "name": "stdout",
     "output_type": "stream",
     "text": [
      "11 tensor(16.3235, dtype=torch.float64) tensor([-0.5624], dtype=torch.float64)\n"
     ]
    },
    {
     "name": "stderr",
     "output_type": "stream",
     "text": [
      "/home/muhammadkasim/anaconda2/envs/torchdev/lib/python3.7/site-packages/xitorch/_impls/optimize/root/rootsolver.py:163: ConvergenceWarning: The rootfinder does not converge after 50 iterations. Best |dx|=2.586e-01, |f|=6.757e-01 at iter 13\n",
      "  warnings.warn(ConvergenceWarning(msg))\n"
     ]
    },
    {
     "name": "stdout",
     "output_type": "stream",
     "text": [
      "12 tensor(17.3529, dtype=torch.float64) tensor([-0.4762], dtype=torch.float64)\n"
     ]
    },
    {
     "name": "stderr",
     "output_type": "stream",
     "text": [
      "/home/muhammadkasim/anaconda2/envs/torchdev/lib/python3.7/site-packages/xitorch/_impls/optimize/root/rootsolver.py:163: ConvergenceWarning: The rootfinder does not converge after 50 iterations. Best |dx|=7.155e-01, |f|=7.188e-01 at iter 8\n",
      "  warnings.warn(ConvergenceWarning(msg))\n"
     ]
    },
    {
     "name": "stdout",
     "output_type": "stream",
     "text": [
      "13 tensor(18.3824, dtype=torch.float64) tensor([-0.4774], dtype=torch.float64)\n"
     ]
    },
    {
     "name": "stderr",
     "output_type": "stream",
     "text": [
      "/home/muhammadkasim/anaconda2/envs/torchdev/lib/python3.7/site-packages/xitorch/_impls/optimize/root/rootsolver.py:163: ConvergenceWarning: The rootfinder does not converge after 50 iterations. Best |dx|=1.627e-01, |f|=7.376e-01 at iter 28\n",
      "  warnings.warn(ConvergenceWarning(msg))\n"
     ]
    },
    {
     "name": "stdout",
     "output_type": "stream",
     "text": [
      "14 tensor(19.4118, dtype=torch.float64) tensor([-0.4774], dtype=torch.float64)\n"
     ]
    },
    {
     "name": "stderr",
     "output_type": "stream",
     "text": [
      "/home/muhammadkasim/anaconda2/envs/torchdev/lib/python3.7/site-packages/xitorch/_impls/optimize/root/rootsolver.py:163: ConvergenceWarning: The rootfinder does not converge after 50 iterations. Best |dx|=6.807e-02, |f|=7.806e-01 at iter 15\n",
      "  warnings.warn(ConvergenceWarning(msg))\n"
     ]
    },
    {
     "name": "stdout",
     "output_type": "stream",
     "text": [
      "15 tensor(20.4412, dtype=torch.float64) tensor([-0.4774], dtype=torch.float64)\n"
     ]
    },
    {
     "name": "stderr",
     "output_type": "stream",
     "text": [
      "/home/muhammadkasim/anaconda2/envs/torchdev/lib/python3.7/site-packages/xitorch/_impls/optimize/root/rootsolver.py:163: ConvergenceWarning: The rootfinder does not converge after 50 iterations. Best |dx|=1.315e-03, |f|=7.866e-01 at iter 11\n",
      "  warnings.warn(ConvergenceWarning(msg))\n"
     ]
    },
    {
     "name": "stdout",
     "output_type": "stream",
     "text": [
      "16 tensor(21.4706, dtype=torch.float64) tensor([-0.4774], dtype=torch.float64)\n"
     ]
    },
    {
     "name": "stderr",
     "output_type": "stream",
     "text": [
      "/home/muhammadkasim/anaconda2/envs/torchdev/lib/python3.7/site-packages/xitorch/_impls/optimize/root/rootsolver.py:163: ConvergenceWarning: The rootfinder does not converge after 50 iterations. Best |dx|=7.571e-01, |f|=7.727e-01 at iter 23\n",
      "  warnings.warn(ConvergenceWarning(msg))\n"
     ]
    },
    {
     "name": "stdout",
     "output_type": "stream",
     "text": [
      "17 tensor(22.5000, dtype=torch.float64) tensor([-0.4773], dtype=torch.float64)\n"
     ]
    },
    {
     "name": "stderr",
     "output_type": "stream",
     "text": [
      "/home/muhammadkasim/anaconda2/envs/torchdev/lib/python3.7/site-packages/xitorch/_impls/optimize/root/rootsolver.py:163: ConvergenceWarning: The rootfinder does not converge after 50 iterations. Best |dx|=1.604e-02, |f|=7.956e-01 at iter 6\n",
      "  warnings.warn(ConvergenceWarning(msg))\n"
     ]
    },
    {
     "name": "stdout",
     "output_type": "stream",
     "text": [
      "18 tensor(23.5294, dtype=torch.float64) tensor([-0.4774], dtype=torch.float64)\n"
     ]
    },
    {
     "name": "stderr",
     "output_type": "stream",
     "text": [
      "/home/muhammadkasim/anaconda2/envs/torchdev/lib/python3.7/site-packages/xitorch/_impls/optimize/root/rootsolver.py:163: ConvergenceWarning: The rootfinder does not converge after 50 iterations. Best |dx|=7.095e-01, |f|=7.384e-01 at iter 7\n",
      "  warnings.warn(ConvergenceWarning(msg))\n"
     ]
    },
    {
     "name": "stdout",
     "output_type": "stream",
     "text": [
      "19 tensor(24.5588, dtype=torch.float64) tensor([-0.4765], dtype=torch.float64)\n"
     ]
    },
    {
     "name": "stderr",
     "output_type": "stream",
     "text": [
      "/home/muhammadkasim/anaconda2/envs/torchdev/lib/python3.7/site-packages/xitorch/_impls/optimize/root/rootsolver.py:163: ConvergenceWarning: The rootfinder does not converge after 50 iterations. Best |dx|=1.703e-02, |f|=8.053e-01 at iter 9\n",
      "  warnings.warn(ConvergenceWarning(msg))\n"
     ]
    },
    {
     "name": "stdout",
     "output_type": "stream",
     "text": [
      "20 tensor(25.5882, dtype=torch.float64) tensor([-0.4774], dtype=torch.float64)\n"
     ]
    },
    {
     "name": "stderr",
     "output_type": "stream",
     "text": [
      "/home/muhammadkasim/anaconda2/envs/torchdev/lib/python3.7/site-packages/xitorch/_impls/optimize/root/rootsolver.py:163: ConvergenceWarning: The rootfinder does not converge after 50 iterations. Best |dx|=1.025e-02, |f|=8.091e-01 at iter 8\n",
      "  warnings.warn(ConvergenceWarning(msg))\n"
     ]
    },
    {
     "name": "stdout",
     "output_type": "stream",
     "text": [
      "21 tensor(26.6176, dtype=torch.float64) tensor([-0.4774], dtype=torch.float64)\n"
     ]
    },
    {
     "name": "stderr",
     "output_type": "stream",
     "text": [
      "/home/muhammadkasim/anaconda2/envs/torchdev/lib/python3.7/site-packages/xitorch/_impls/optimize/root/rootsolver.py:163: ConvergenceWarning: The rootfinder does not converge after 50 iterations. Best |dx|=8.232e-01, |f|=8.124e-01 at iter 1\n",
      "  warnings.warn(ConvergenceWarning(msg))\n"
     ]
    },
    {
     "name": "stdout",
     "output_type": "stream",
     "text": [
      "22 tensor(27.6471, dtype=torch.float64) tensor([-0.4774], dtype=torch.float64)\n"
     ]
    },
    {
     "name": "stderr",
     "output_type": "stream",
     "text": [
      "/home/muhammadkasim/anaconda2/envs/torchdev/lib/python3.7/site-packages/xitorch/_impls/optimize/root/rootsolver.py:163: ConvergenceWarning: The rootfinder does not converge after 50 iterations. Best |dx|=8.264e-01, |f|=8.156e-01 at iter 1\n",
      "  warnings.warn(ConvergenceWarning(msg))\n"
     ]
    },
    {
     "name": "stdout",
     "output_type": "stream",
     "text": [
      "23 tensor(28.6765, dtype=torch.float64) tensor([-0.4774], dtype=torch.float64)\n"
     ]
    },
    {
     "name": "stderr",
     "output_type": "stream",
     "text": [
      "/home/muhammadkasim/anaconda2/envs/torchdev/lib/python3.7/site-packages/xitorch/_impls/optimize/root/rootsolver.py:163: ConvergenceWarning: The rootfinder does not converge after 50 iterations. Best |dx|=8.293e-01, |f|=8.185e-01 at iter 1\n",
      "  warnings.warn(ConvergenceWarning(msg))\n"
     ]
    },
    {
     "name": "stdout",
     "output_type": "stream",
     "text": [
      "24 tensor(29.7059, dtype=torch.float64) tensor([-0.4774], dtype=torch.float64)\n"
     ]
    },
    {
     "name": "stderr",
     "output_type": "stream",
     "text": [
      "/home/muhammadkasim/anaconda2/envs/torchdev/lib/python3.7/site-packages/xitorch/_impls/optimize/root/rootsolver.py:163: ConvergenceWarning: The rootfinder does not converge after 50 iterations. Best |dx|=8.321e-01, |f|=8.213e-01 at iter 1\n",
      "  warnings.warn(ConvergenceWarning(msg))\n"
     ]
    },
    {
     "name": "stdout",
     "output_type": "stream",
     "text": [
      "25 tensor(30.7353, dtype=torch.float64) tensor([-0.4774], dtype=torch.float64)\n"
     ]
    },
    {
     "name": "stderr",
     "output_type": "stream",
     "text": [
      "/home/muhammadkasim/anaconda2/envs/torchdev/lib/python3.7/site-packages/xitorch/_impls/optimize/root/rootsolver.py:163: ConvergenceWarning: The rootfinder does not converge after 50 iterations. Best |dx|=8.346e-01, |f|=8.238e-01 at iter 1\n",
      "  warnings.warn(ConvergenceWarning(msg))\n"
     ]
    },
    {
     "name": "stdout",
     "output_type": "stream",
     "text": [
      "26 tensor(31.7647, dtype=torch.float64) tensor([-0.4774], dtype=torch.float64)\n"
     ]
    },
    {
     "name": "stderr",
     "output_type": "stream",
     "text": [
      "/home/muhammadkasim/anaconda2/envs/torchdev/lib/python3.7/site-packages/xitorch/_impls/optimize/root/rootsolver.py:163: ConvergenceWarning: The rootfinder does not converge after 50 iterations. Best |dx|=8.370e-01, |f|=8.263e-01 at iter 1\n",
      "  warnings.warn(ConvergenceWarning(msg))\n"
     ]
    },
    {
     "name": "stdout",
     "output_type": "stream",
     "text": [
      "27 tensor(32.7941, dtype=torch.float64) tensor([-0.4774], dtype=torch.float64)\n"
     ]
    },
    {
     "name": "stderr",
     "output_type": "stream",
     "text": [
      "/home/muhammadkasim/anaconda2/envs/torchdev/lib/python3.7/site-packages/xitorch/_impls/optimize/root/rootsolver.py:163: ConvergenceWarning: The rootfinder does not converge after 50 iterations. Best |dx|=8.393e-01, |f|=8.285e-01 at iter 1\n",
      "  warnings.warn(ConvergenceWarning(msg))\n"
     ]
    },
    {
     "name": "stdout",
     "output_type": "stream",
     "text": [
      "28 tensor(33.8235, dtype=torch.float64) tensor([-0.4774], dtype=torch.float64)\n"
     ]
    },
    {
     "name": "stderr",
     "output_type": "stream",
     "text": [
      "/home/muhammadkasim/anaconda2/envs/torchdev/lib/python3.7/site-packages/xitorch/_impls/optimize/root/rootsolver.py:163: ConvergenceWarning: The rootfinder does not converge after 50 iterations. Best |dx|=8.414e-01, |f|=8.306e-01 at iter 1\n",
      "  warnings.warn(ConvergenceWarning(msg))\n"
     ]
    },
    {
     "name": "stdout",
     "output_type": "stream",
     "text": [
      "29 tensor(34.8529, dtype=torch.float64) tensor([-0.4774], dtype=torch.float64)\n"
     ]
    },
    {
     "name": "stderr",
     "output_type": "stream",
     "text": [
      "/home/muhammadkasim/anaconda2/envs/torchdev/lib/python3.7/site-packages/xitorch/_impls/optimize/root/rootsolver.py:163: ConvergenceWarning: The rootfinder does not converge after 50 iterations. Best |dx|=8.435e-01, |f|=8.327e-01 at iter 1\n",
      "  warnings.warn(ConvergenceWarning(msg))\n"
     ]
    },
    {
     "name": "stdout",
     "output_type": "stream",
     "text": [
      "30 tensor(35.8824, dtype=torch.float64) tensor([-0.4774], dtype=torch.float64)\n"
     ]
    },
    {
     "name": "stderr",
     "output_type": "stream",
     "text": [
      "/home/muhammadkasim/anaconda2/envs/torchdev/lib/python3.7/site-packages/xitorch/_impls/optimize/root/rootsolver.py:163: ConvergenceWarning: The rootfinder does not converge after 50 iterations. Best |dx|=8.453e-01, |f|=8.346e-01 at iter 1\n",
      "  warnings.warn(ConvergenceWarning(msg))\n"
     ]
    },
    {
     "name": "stdout",
     "output_type": "stream",
     "text": [
      "31 tensor(36.9118, dtype=torch.float64) tensor([-0.4774], dtype=torch.float64)\n"
     ]
    },
    {
     "name": "stderr",
     "output_type": "stream",
     "text": [
      "/home/muhammadkasim/anaconda2/envs/torchdev/lib/python3.7/site-packages/xitorch/_impls/optimize/root/rootsolver.py:163: ConvergenceWarning: The rootfinder does not converge after 50 iterations. Best |dx|=8.471e-01, |f|=8.363e-01 at iter 1\n",
      "  warnings.warn(ConvergenceWarning(msg))\n"
     ]
    },
    {
     "name": "stdout",
     "output_type": "stream",
     "text": [
      "32 tensor(37.9412, dtype=torch.float64) tensor([-0.4774], dtype=torch.float64)\n"
     ]
    },
    {
     "name": "stderr",
     "output_type": "stream",
     "text": [
      "/home/muhammadkasim/anaconda2/envs/torchdev/lib/python3.7/site-packages/xitorch/_impls/optimize/root/rootsolver.py:163: ConvergenceWarning: The rootfinder does not converge after 50 iterations. Best |dx|=8.488e-01, |f|=8.380e-01 at iter 1\n",
      "  warnings.warn(ConvergenceWarning(msg))\n"
     ]
    },
    {
     "name": "stdout",
     "output_type": "stream",
     "text": [
      "33 tensor(38.9706, dtype=torch.float64) tensor([-0.4774], dtype=torch.float64)\n",
      "34 tensor(40., dtype=torch.float64) tensor([-0.4774], dtype=torch.float64)\n"
     ]
    },
    {
     "name": "stderr",
     "output_type": "stream",
     "text": [
      "/home/muhammadkasim/anaconda2/envs/torchdev/lib/python3.7/site-packages/xitorch/_impls/optimize/root/rootsolver.py:163: ConvergenceWarning: The rootfinder does not converge after 50 iterations. Best |dx|=8.505e-01, |f|=8.397e-01 at iter 1\n",
      "  warnings.warn(ConvergenceWarning(msg))\n"
     ]
    }
   ],
   "source": [
    "dists = torch.linspace(5, 40, 35, dtype=dtype)\n",
    "enes_scf = []\n",
    "for i, dist in enumerate(dists):\n",
    "    ene = get_ene(dist, False)\n",
    "    ene = ene.reshape(-1).detach()\n",
    "    print(i, dist, ene)\n",
    "    enes_scf.append(ene)"
   ]
  },
  {
   "cell_type": "code",
   "execution_count": 12,
   "id": "8b5465f4",
   "metadata": {
    "scrolled": true
   },
   "outputs": [
    {
     "name": "stdout",
     "output_type": "stream",
     "text": [
      "0 tensor(5., dtype=torch.float64) tensor([-0.5446], dtype=torch.float64)\n",
      "1 tensor(6.0294, dtype=torch.float64) tensor([-0.5433], dtype=torch.float64)\n",
      "2 tensor(7.0588, dtype=torch.float64) tensor([-0.5451], dtype=torch.float64)\n",
      "3 tensor(8.0882, dtype=torch.float64) tensor([-0.5480], dtype=torch.float64)\n",
      "4 tensor(9.1176, dtype=torch.float64) tensor([-0.5508], dtype=torch.float64)\n",
      "5 tensor(10.1471, dtype=torch.float64) tensor([-0.5534], dtype=torch.float64)\n",
      "6 tensor(11.1765, dtype=torch.float64) tensor([-0.5556], dtype=torch.float64)\n",
      "7 tensor(12.2059, dtype=torch.float64) tensor([-0.5574], dtype=torch.float64)\n",
      "8 tensor(13.2353, dtype=torch.float64) tensor([-0.5590], dtype=torch.float64)\n",
      "9 tensor(14.2647, dtype=torch.float64) tensor([-0.5604], dtype=torch.float64)\n",
      "10 tensor(15.2941, dtype=torch.float64) tensor([-0.5615], dtype=torch.float64)\n",
      "11 tensor(16.3235, dtype=torch.float64) tensor([-0.5626], dtype=torch.float64)\n",
      "12 tensor(17.3529, dtype=torch.float64) tensor([-0.5635], dtype=torch.float64)\n",
      "13 tensor(18.3824, dtype=torch.float64) tensor([-0.5643], dtype=torch.float64)\n",
      "14 tensor(19.4118, dtype=torch.float64) tensor([-0.5650], dtype=torch.float64)\n",
      "15 tensor(20.4412, dtype=torch.float64) tensor([-0.5657], dtype=torch.float64)\n",
      "16 tensor(21.4706, dtype=torch.float64) tensor([-0.5662], dtype=torch.float64)\n",
      "17 tensor(22.5000, dtype=torch.float64) tensor([-0.5668], dtype=torch.float64)\n",
      "18 tensor(23.5294, dtype=torch.float64) tensor([-0.5673], dtype=torch.float64)\n",
      "19 tensor(24.5588, dtype=torch.float64) tensor([-0.5677], dtype=torch.float64)\n",
      "20 tensor(25.5882, dtype=torch.float64) tensor([-0.5681], dtype=torch.float64)\n",
      "21 tensor(26.6176, dtype=torch.float64) tensor([-0.5685], dtype=torch.float64)\n",
      "22 tensor(27.6471, dtype=torch.float64) tensor([-0.5688], dtype=torch.float64)\n",
      "23 tensor(28.6765, dtype=torch.float64) tensor([-0.5692], dtype=torch.float64)\n",
      "24 tensor(29.7059, dtype=torch.float64) tensor([-0.5695], dtype=torch.float64)\n",
      "25 tensor(30.7353, dtype=torch.float64) tensor([-0.5698], dtype=torch.float64)\n",
      "26 tensor(31.7647, dtype=torch.float64) tensor([-0.5700], dtype=torch.float64)\n",
      "27 tensor(32.7941, dtype=torch.float64) tensor([-0.5703], dtype=torch.float64)\n",
      "28 tensor(33.8235, dtype=torch.float64) tensor([-0.5705], dtype=torch.float64)\n",
      "29 tensor(34.8529, dtype=torch.float64) tensor([-0.5707], dtype=torch.float64)\n",
      "30 tensor(35.8824, dtype=torch.float64) tensor([-0.5709], dtype=torch.float64)\n",
      "31 tensor(36.9118, dtype=torch.float64) tensor([-0.5711], dtype=torch.float64)\n",
      "32 tensor(37.9412, dtype=torch.float64) tensor([-0.5713], dtype=torch.float64)\n",
      "33 tensor(38.9706, dtype=torch.float64) tensor([-0.5715], dtype=torch.float64)\n",
      "34 tensor(40., dtype=torch.float64) tensor([-0.5716], dtype=torch.float64)\n"
     ]
    }
   ],
   "source": [
    "enes_var = []\n",
    "for i, dist in enumerate(dists):\n",
    "    ene = get_ene(dist, True)\n",
    "    ene = ene.reshape(-1).detach()\n",
    "    print(i, dist, ene)\n",
    "    enes_var.append(ene)"
   ]
  },
  {
   "cell_type": "code",
   "execution_count": 14,
   "id": "626078d3",
   "metadata": {},
   "outputs": [
    {
     "data": {
      "image/png": "[encoded data removed]",
      "text/plain": [
       "<Figure size 432x288 with 1 Axes>"
      ]
     },
     "metadata": {
      "needs_background": "light"
     },
     "output_type": "display_data"
    }
   ],
   "source": [
    "import matplotlib.pyplot as plt\n",
    "legend_fontsize = 12\n",
    "label_fontsize = 14\n",
    "tick_fontsize = 12\n",
    "plt.plot(dists, enes_var, '.-', label=\"Direct minimization\")\n",
    "plt.plot(dists, enes_scf, '.-', label=\"SCF iterations\")\n",
    "plt.xlabel(\"Distance (Bohr)\", fontsize=label_fontsize)\n",
    "plt.ylabel(\"Energy ($E_h$)\", fontsize=label_fontsize)\n",
    "plt.xticks(fontsize=tick_fontsize)\n",
    "plt.yticks(fontsize=tick_fontsize)\n",
    "plt.legend(fontsize=legend_fontsize)\n",
    "plt.show()"
   ]
  },
  {
   "cell_type": "code",
   "execution_count": null,
   "id": "0b2e8f28",
   "metadata": {},
   "outputs": [],
   "source": []
  }
 ],
 "metadata": {
  "kernelspec": {
   "display_name": "Python 3",
   "language": "python",
   "name": "python3"
  },
  "language_info": {
   "codemirror_mode": {
    "name": "ipython",
    "version": 3
   },
   "file_extension": ".py",
   "mimetype": "text/x-python",
   "name": "python",
   "nbconvert_exporter": "python",
   "pygments_lexer": "ipython3",
   "version": "3.7.10"
  }
 },
 "nbformat": 4,
 "nbformat_minor": 5
}
