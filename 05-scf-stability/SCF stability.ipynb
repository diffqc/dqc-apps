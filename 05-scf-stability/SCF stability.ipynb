{
 "cells": [
  {
   "cell_type": "code",
   "execution_count": 1,
   "id": "b753af9b",
   "metadata": {},
   "outputs": [],
   "source": [
    "import dqc\n",
    "import torch\n",
    "import dqc.utils"
   ]
  },
  {
   "cell_type": "code",
   "execution_count": 10,
   "id": "17d4d34a",
   "metadata": {},
   "outputs": [],
   "source": [
    "dtype = torch.float64\n",
    "atomposs = torch.tensor([[-0.5, 0.0, 0.0], [0.5, 0.0, 0.0]], dtype=dtype)\n",
    "basis = \"pc-1\""
   ]
  },
  {
   "cell_type": "code",
   "execution_count": 11,
   "id": "6b6d719b",
   "metadata": {},
   "outputs": [],
   "source": [
    "# rough implementation of forcing ground state\n",
    "def eval_state(mol, force_gs=False):\n",
    "    qc = dqc.HF(mol).run(dm0=None if not force_gs else \"1e\")\n",
    "    ene = qc.energy()\n",
    "    eival = dqc.lowest_eival_orb_hessian(qc)\n",
    "    mult = 1e-3\n",
    "    while eival < -1e-3 and force_gs:\n",
    "        dm0 = qc.aodm()\n",
    "        dm0 = dqc.utils.SpinParam.apply_fcn(lambda dm0: dm0 + torch.randn_like(dm0) * mult, dm0)\n",
    "        dm0 = dqc.utils.SpinParam.apply_fcn(lambda dm0: (dm0 + dm0.transpose(-2, -1).conj()) * 0.5, dm0)\n",
    "        qc = dqc.HF(mol).run(dm0=dm0)\n",
    "        ene = qc.energy()\n",
    "        eival = dqc.lowest_eival_orb_hessian(qc)\n",
    "        mult *= 2\n",
    "    return ene, eival"
   ]
  },
  {
   "cell_type": "code",
   "execution_count": 12,
   "id": "9537138f",
   "metadata": {},
   "outputs": [
    {
     "name": "stdout",
     "output_type": "stream",
     "text": [
      "(tensor(-149.1737, dtype=torch.float64), tensor([-0.7331], dtype=torch.float64, grad_fn=<SliceBackward>))\n"
     ]
    }
   ],
   "source": [
    "# O2\n",
    "mol = dqc.Mol(moldesc=([8, 8], atomposs * 2.0), basis=basis, dtype=dtype, spin=2)\n",
    "print(eval_state(mol, force_gs=False))"
   ]
  },
  {
   "cell_type": "code",
   "execution_count": 13,
   "id": "aa5c60c8",
   "metadata": {},
   "outputs": [
    {
     "name": "stdout",
     "output_type": "stream",
     "text": [
      "(tensor(-149.5416, dtype=torch.float64), tensor([-6.1734e-14], dtype=torch.float64, grad_fn=<SliceBackward>))\n"
     ]
    }
   ],
   "source": [
    "print(eval_state(mol, force_gs=True))"
   ]
  },
  {
   "cell_type": "code",
   "execution_count": 14,
   "id": "aaf0e9a2",
   "metadata": {},
   "outputs": [
    {
     "name": "stdout",
     "output_type": "stream",
     "text": [
      "(tensor(-15.0064, dtype=torch.float64), tensor([-0.2485], dtype=torch.float64, grad_fn=<SliceBackward>))\n"
     ]
    }
   ],
   "source": [
    "# BeH\n",
    "mol = dqc.Mol(moldesc=([4, 1], atomposs * 2.5), basis=basis, dtype=dtype, spin=1)\n",
    "print(eval_state(mol, force_gs=False))"
   ]
  },
  {
   "cell_type": "code",
   "execution_count": 15,
   "id": "8dcf9d8c",
   "metadata": {},
   "outputs": [
    {
     "name": "stdout",
     "output_type": "stream",
     "text": [
      "(tensor(-15.1374, dtype=torch.float64), tensor([-4.1416e-14], dtype=torch.float64, grad_fn=<SliceBackward>))\n"
     ]
    }
   ],
   "source": [
    "print(eval_state(mol, force_gs=True))"
   ]
  },
  {
   "cell_type": "code",
   "execution_count": 16,
   "id": "b857430b",
   "metadata": {},
   "outputs": [
    {
     "name": "stdout",
     "output_type": "stream",
     "text": [
      "(tensor(-38.2563, dtype=torch.float64), tensor([-0.0672], dtype=torch.float64, grad_fn=<SliceBackward>))\n"
     ]
    }
   ],
   "source": [
    "# CH\n",
    "mol = dqc.Mol(moldesc=([6, 1], atomposs * 2.0), basis=basis, dtype=dtype, spin=1)\n",
    "print(eval_state(mol, force_gs=False))"
   ]
  },
  {
   "cell_type": "code",
   "execution_count": 17,
   "id": "c2bd03a2",
   "metadata": {},
   "outputs": [
    {
     "name": "stdout",
     "output_type": "stream",
     "text": [
      "(tensor(-38.2593, dtype=torch.float64), tensor([-4.8197e-08], dtype=torch.float64, grad_fn=<SliceBackward>))\n"
     ]
    }
   ],
   "source": [
    "print(eval_state(mol, force_gs=True))"
   ]
  },
  {
   "cell_type": "code",
   "execution_count": null,
   "id": "4d6d7822",
   "metadata": {},
   "outputs": [],
   "source": []
  }
 ],
 "metadata": {
  "kernelspec": {
   "display_name": "Python 3",
   "language": "python",
   "name": "python3"
  },
  "language_info": {
   "codemirror_mode": {
    "name": "ipython",
    "version": 3
   },
   "file_extension": ".py",
   "mimetype": "text/x-python",
   "name": "python",
   "nbconvert_exporter": "python",
   "pygments_lexer": "ipython3",
   "version": "3.7.10"
  }
 },
 "nbformat": 4,
 "nbformat_minor": 5
}
